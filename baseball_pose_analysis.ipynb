{
 "cells": [
  {
   "cell_type": "markdown",
   "id": "dd2f1173-d918-4c0b-8cc8-71efd76ed7c0",
   "metadata": {},
   "source": [
    "# Defaults"
   ]
  },
  {
   "cell_type": "markdown",
   "id": "6ea4f142-db2e-4b21-b456-267702bc0e89",
   "metadata": {},
   "source": [
    "### 라이브러리"
   ]
  },
  {
   "cell_type": "code",
   "execution_count": 2,
   "id": "9c59be23-3a1f-436a-80bd-48779d32c5e5",
   "metadata": {},
   "outputs": [
    {
     "name": "stdout",
     "output_type": "stream",
     "text": [
      "Jupyter environment detected. Enabling Open3D WebVisualizer.\n",
      "[Open3D INFO] WebRTC GUI backend enabled.\n",
      "[Open3D INFO] WebRTCWindowSystem: HTTP handshake server disabled.\n"
     ]
    }
   ],
   "source": [
    "import baseball_vision.PoseAnalysisProcessor as PoseAnalysisProcessor\n",
    "import baseball_vision.InteractivePoseVisualizer as InteractivePoseVisualizer\n",
    "import baseball_vision.tool as bvtool\n",
    "import baseball_vision.draw_bone as bvdb\n",
    "import config\n",
    "import os\n",
    "import numpy as np\n",
    "import c3d # C3D library import"
   ]
  },
  {
   "cell_type": "markdown",
   "id": "61b53ef5-d69e-493b-8e42-05bd9f2a5a30",
   "metadata": {
    "jp-MarkdownHeadingCollapsed": true
   },
   "source": [
    "### Helper Functions"
   ]
  },
  {
   "cell_type": "code",
   "execution_count": 3,
   "id": "e090831a-7232-488e-99b2-7db8124ce62d",
   "metadata": {},
   "outputs": [],
   "source": [
    "def export_to_c3d(output_filename, all_frames_3d_landmarks, fps, marker_names):\n",
    "    if not all_frames_3d_landmarks:\n",
    "        print(\"내보낼 3D 랜드마크 데이터가 없습니다.\")\n",
    "        return\n",
    "\n",
    "    num_frames = len(all_frames_3d_landmarks)\n",
    "    num_markers = all_frames_3d_landmarks[0].shape[0]\n",
    "\n",
    "    points_data_all_frames = np.array(all_frames_3d_landmarks) * 1000.0 # meters to millimeters\n",
    "\n",
    "    writer = c3d.Writer()\n",
    "\n",
    "    for frame_idx in range(num_frames):\n",
    "        current_frame_points_3d = points_data_all_frames[frame_idx]\n",
    "\n",
    "        residuals_column = np.zeros((num_markers, 1), dtype=np.float32)\n",
    "\n",
    "        points_with_residuals = np.hstack((current_frame_points_3d, residuals_column))\n",
    "        points_with_residuals = np.hstack((points_with_residuals, residuals_column))\n",
    "\n",
    "        writer.add_frames([(points_with_residuals, np.array([]))])\n",
    "\n",
    "    with open(output_filename, 'wb') as handle:\n",
    "        writer.write(handle)\n",
    "\n",
    "    print(f\"총 {num_frames} 프레임을 {output_filename}으로 성공적으로 내보냈습니다.\")"
   ]
  },
  {
   "cell_type": "markdown",
   "id": "736cdcde-97e0-4f0c-b6d9-a627a0e8ca61",
   "metadata": {},
   "source": [
    "# 실행 부분"
   ]
  },
  {
   "cell_type": "code",
   "execution_count": 4,
   "id": "c811c08c-3c72-4a60-b13f-288ad05c6e77",
   "metadata": {},
   "outputs": [
    {
     "name": "stdout",
     "output_type": "stream",
     "text": [
      "MediaPipe Pose를 초기화합니다...\n",
      "비디오 처리 시작...\n",
      "처리 중: 100.00% (179/179 프레임)\n",
      "비디오 객체를 해제합니다...\n"
     ]
    }
   ],
   "source": [
    "target_name = \"이진우\"\n",
    "video_name = \"raw_data/\" + target_name + \".mov\"\n",
    "\n",
    "processor = PoseAnalysisProcessor.PoseAnalysisProcessor(\"data_result\")\n",
    "all_frames_3d_landmarks, fps = processor.process_video(video_name, target_name, bvtool.batter_tool)"
   ]
  },
  {
   "cell_type": "code",
   "execution_count": null,
   "id": "d172da95-07d1-488a-8e5c-55d644ecba56",
   "metadata": {},
   "outputs": [],
   "source": [
    "# --- Export 3D data to C3D file ---\n",
    "print(\"\\nExporting 3D data to C3D file...\")\n",
    "c3d_output_path = os.path.join(config.OUTPUT_DIR, target_name + '_3d_pose.c3d')\n",
    "export_to_c3d(c3d_output_path, all_frames_3d_landmarks, fps, config.ALL_POSE_MARKER_NAMES)\n",
    "print(\"C3D export complete.\")"
   ]
  },
  {
   "cell_type": "code",
   "execution_count": null,
   "id": "468419b2-1816-4343-ae2f-517e90404285",
   "metadata": {},
   "outputs": [],
   "source": [
    "interactive_viz = InteractivePoseVisualizer.InteractivePoseVisualizer(all_frames_3d_landmarks, config.mp_pose.POSE_CONNECTIONS, fps)\n",
    "#interactive_viz.run()\n",
    "bvdb.landmarks_animation(all_frames_3d_landmarks, config.mp_pose.POSE_CONNECTIONS, fps)"
   ]
  }
 ],
 "metadata": {
  "kernelspec": {
   "display_name": "Python 3 (ipykernel)",
   "language": "python",
   "name": "python3"
  },
  "language_info": {
   "codemirror_mode": {
    "name": "ipython",
    "version": 3
   },
   "file_extension": ".py",
   "mimetype": "text/x-python",
   "name": "python",
   "nbconvert_exporter": "python",
   "pygments_lexer": "ipython3",
   "version": "3.11.7"
  }
 },
 "nbformat": 4,
 "nbformat_minor": 5
}
