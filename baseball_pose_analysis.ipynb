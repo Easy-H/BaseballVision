{
 "cells": [
  {
   "cell_type": "markdown",
   "id": "dd2f1173-d918-4c0b-8cc8-71efd76ed7c0",
   "metadata": {},
   "source": [
    "# 라이브러리"
   ]
  },
  {
   "cell_type": "code",
   "execution_count": 1,
   "id": "e021ae58-4b0f-426f-ad12-a3844aa5fad5",
   "metadata": {},
   "outputs": [
    {
     "name": "stdout",
     "output_type": "stream",
     "text": [
      "Processing c:\\b\\abs_3cwz1w13nn\\croot\\aiobotocore_1701291550158\\work (from -r requirements.txt (line 2))\n"
     ]
    },
    {
     "name": "stderr",
     "output_type": "stream",
     "text": [
      "ERROR: Could not install packages due to an OSError: [Errno 2] No such file or directory: 'C:\\\\b\\\\abs_3cwz1w13nn\\\\croot\\\\aiobotocore_1701291550158\\\\work'\n",
      "\n"
     ]
    }
   ],
   "source": [
    "!pip install -r requirements.txt"
   ]
  },
  {
   "cell_type": "code",
   "execution_count": 2,
   "id": "9c59be23-3a1f-436a-80bd-48779d32c5e5",
   "metadata": {
    "scrolled": true
   },
   "outputs": [
    {
     "name": "stdout",
     "output_type": "stream",
     "text": [
      "Jupyter environment detected. Enabling Open3D WebVisualizer.\n",
      "[Open3D INFO] WebRTC GUI backend enabled.\n",
      "[Open3D INFO] WebRTCWindowSystem: HTTP handshake server disabled.\n"
     ]
    }
   ],
   "source": [
    "import baseball_vision.PoseAnalysisProcessor as PoseAnalysisProcessor\n",
    "from baseball_vision.InteractivePoseVisualizer import InteractivePoseVisualizer\n",
    "import baseball_vision.tool as bvtool\n",
    "import baseball_vision.draw_3d as d3d\n",
    "import config\n",
    "import os\n",
    "import numpy as np\n",
    "import c3d # C3D library import"
   ]
  },
  {
   "cell_type": "markdown",
   "id": "736cdcde-97e0-4f0c-b6d9-a627a0e8ca61",
   "metadata": {
    "jp-MarkdownHeadingCollapsed": true
   },
   "source": [
    "# 실행 부분"
   ]
  },
  {
   "cell_type": "code",
   "execution_count": 3,
   "id": "c811c08c-3c72-4a60-b13f-288ad05c6e77",
   "metadata": {},
   "outputs": [
    {
     "name": "stdout",
     "output_type": "stream",
     "text": [
      "MediaPipe Pose를 초기화합니다...\n",
      "비디오 처리 시작...\n",
      "처리 중: 100.00% (179/179 프레임)\n",
      "비디오 객체를 해제합니다...\n"
     ]
    }
   ],
   "source": [
    "target_name = \"이진우\"\n",
    "video_name = \"raw_data/\" + target_name + \".mov\"\n",
    "\n",
    "processor = PoseAnalysisProcessor.PoseAnalysisProcessor(\"data_result\")\n",
    "all_frames_3d_landmarks, fps = processor.process_video(video_name, target_name, bvtool.batter_tool)"
   ]
  },
  {
   "cell_type": "code",
   "execution_count": 4,
   "id": "d172da95-07d1-488a-8e5c-55d644ecba56",
   "metadata": {},
   "outputs": [
    {
     "name": "stdout",
     "output_type": "stream",
     "text": [
      "총 179 프레임을 result_data\\이진우_3d_pose.c3d으로 성공적으로 내보냈습니다.\n"
     ]
    },
    {
     "name": "stderr",
     "output_type": "stream",
     "text": [
      "C:\\Temp\\Anaconda\\Lib\\site-packages\\c3d\\c3d.py:1210: UserWarning: missing parameter POINT:LABELS\n",
      "  warnings.warn('missing parameter {}'.format(name))\n",
      "C:\\Temp\\Anaconda\\Lib\\site-packages\\c3d\\c3d.py:1219: UserWarning: No analog data found in file.\n",
      "  warnings.warn('No analog data found in file.')\n"
     ]
    }
   ],
   "source": [
    "# --- Export 3D data to C3D file ---\n",
    "c3d_output_path = os.path.join(config.OUTPUT_DIR, target_name + '_3d_pose.c3d')\n",
    "d3d.export_to_c3d(c3d_output_path, all_frames_3d_landmarks, fps)"
   ]
  },
  {
   "cell_type": "code",
   "execution_count": 5,
   "id": "468419b2-1816-4343-ae2f-517e90404285",
   "metadata": {
    "scrolled": true
   },
   "outputs": [
    {
     "name": "stdout",
     "output_type": "stream",
     "text": [
      "[Open3D INFO] Window window_0 created.\n",
      "[Open3D INFO] ICE servers: [\"stun:stun.l.google.com:19302\", \"turn:user:password@34.69.27.100:3478\", \"turn:user:password@34.69.27.100:3478?transport=tcp\"]\n",
      "[Open3D INFO] Set WEBRTC_STUN_SERVER environment variable add a customized WebRTC STUN server.\n",
      "[Open3D INFO] WebRTC Jupyter handshake mode enabled.\n",
      "\n",
      "--- 3D 인터랙티브 포즈 애니메이션 조작 방법 ---\n",
      "  Spacebar: 재생/일시정지\n",
      "  'A' 또는 Left Arrow: 이전 프레임\n",
      "  'D' 또는 Right Arrow: 다음 프레임\n",
      "  'W' 또는 Up Arrow: 재생 속도 증가\n",
      "  'S' 또는 Down Arrow: 재생 속도 감소\n",
      "  'R': 카메라 뷰 초기화\n",
      "  'Q': 시각화 종료\n",
      "---------------------------------------------\n",
      "3D 시각화를 시작합니다. 창을 닫으면 종료됩니다.\n"
     ]
    },
    {
     "name": "stdin",
     "output_type": "stream",
     "text": [
      "Y/N n\n"
     ]
    },
    {
     "name": "stdout",
     "output_type": "stream",
     "text": [
      "3D 시각화가 종료되었습니다.\n"
     ]
    }
   ],
   "source": [
    "interactive_viz = InteractivePoseVisualizer(all_frames_3d_landmarks, fps)\n",
    "#interactive_viz.run()\n",
    "d3d.show_3d_video(all_frames_3d_landmarks, fps)"
   ]
  }
 ],
 "metadata": {
  "kernelspec": {
   "display_name": "Python 3 (ipykernel)",
   "language": "python",
   "name": "python3"
  },
  "language_info": {
   "codemirror_mode": {
    "name": "ipython",
    "version": 3
   },
   "file_extension": ".py",
   "mimetype": "text/x-python",
   "name": "python",
   "nbconvert_exporter": "python",
   "pygments_lexer": "ipython3",
   "version": "3.11.7"
  }
 },
 "nbformat": 4,
 "nbformat_minor": 5
}
